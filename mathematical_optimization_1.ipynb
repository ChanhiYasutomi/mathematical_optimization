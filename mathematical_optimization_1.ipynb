{
  "cells": [
    {
      "cell_type": "markdown",
      "source": [
        "# url: https://www.youtube.com/watch?v=HcVSSBFNcKM"
      ],
      "metadata": {
        "id": "ibQyKGx9tB4Q"
      }
    },
    {
      "cell_type": "markdown",
      "metadata": {
        "id": "E8W-rFoys05B"
      },
      "source": [
        "## 数理最適化とは\n",
        "与えられた条件の中で「最善の結果」を得るための条件を、数理的に解く手法の総称。\n",
        "\n",
        "Excelでは「ソルバー」機能を用いると実行できる。\n",
        "\n",
        "Pythonでは、（方法は1つではないものの）PuLPライブラリを用いると実行できる。\n",
        "\n",
        "### 「問題」の種類\n",
        "- 線形計画問題・・・制約条件が一次方程式で表されるもの\n",
        "- 整数計画問題・・・↑のうち、各変数の取る値が整数に限定されるもの（ナップサック問題、など）\n",
        "- 組み合わせ最適化問題・・・条件を満たす「組み合わせ」を調べるもの（巡回セールスマン問題、など）\n",
        "- 非線形計画問題・・・制約条件が一次方程式で表されないもの\n",
        "\n",
        "etc..."
      ]
    },
    {
      "cell_type": "markdown",
      "source": [
        "## 数理最適化における問題の種類\n",
        "\n",
        "### 線形計画問題 (Linear Programming Problem, LP):\n",
        "制約条件が一次方程式で表される問題です。目的関数と制約条件が線形であるという特徴があります。具体的な問題例として、生産計画や資源配分の最適化が挙げられます。\n",
        "\n",
        "### 整数計画問題 (Integer Programming Problem, IP):\n",
        "線形計画問題のうち、各変数の取る値が整数に制約される問題です。例えば、製品の数量やプロジェクトのスケジュールにおいて、変数が整数の単位でしか取り得ない場合に適用されます。具体的な問題例としては、ナップサック問題や生産ロットサイズの最適化があります。\n",
        "\n",
        "### 組み合わせ最適化問題 (Combinatorial Optimization Problem):\n",
        "条件を満たす「組み合わせ」を調べる問題です。典型的な問題には、巡回セールスマン問題、最大流問題、最小費用流問題、クリティカルパス分析などがあります。これらの問題は、組み合わせ論やグラフ理論と密接な関係があります。\n",
        "\n",
        "### 非線形計画問題 (Nonlinear Programming Problem, NLP):\n",
        "制約条件が一次方程式で表されない、つまり非線形な問題です。目的関数や制約条件が線形でない場合に適用されます。具体的な問題例として、生態系のモデリングや最適制御問題が挙げられます。※(PulPでは解けないらしい)"
      ],
      "metadata": {
        "id": "J0qNSD8AuQTD"
      }
    },
    {
      "cell_type": "code",
      "source": [
        "!pip install pulp"
      ],
      "metadata": {
        "colab": {
          "base_uri": "https://localhost:8080/"
        },
        "id": "NGIUVYeCtGPt",
        "outputId": "e778dd16-aac2-4486-f991-c94daacd10d8"
      },
      "execution_count": 1,
      "outputs": [
        {
          "output_type": "stream",
          "name": "stdout",
          "text": [
            "Requirement already satisfied: pulp in /usr/local/lib/python3.10/dist-packages (2.7.0)\n"
          ]
        }
      ]
    },
    {
      "cell_type": "code",
      "execution_count": 2,
      "metadata": {
        "id": "qLzsiWC8s05F"
      },
      "outputs": [],
      "source": [
        "from pulp import *"
      ]
    },
    {
      "cell_type": "markdown",
      "metadata": {
        "id": "BlKd3ssvs05H"
      },
      "source": [
        "## 線形計画問題・整数計画問題\n",
        "\n",
        "\n",
        "**【例題】**\n",
        "\n",
        "牛肉7,200g、ご飯5,400gの在庫がある。\n",
        "売上を最大にするには「牛丼」「ハンバーグ定食」をそれぞれ幾つづつ作るか？\n",
        "\n",
        "|メニュー|値段|必要な牛肉|必要なご飯|\n",
        "|---|---|---|---|\n",
        "|牛丼|400円|180g|90g|\n",
        "|ハンバーグ定食|500円|120g|180g|\n"
      ]
    },
    {
      "cell_type": "code",
      "execution_count": 3,
      "metadata": {
        "id": "xB8g7mJis05H"
      },
      "outputs": [],
      "source": [
        "#モデルの定義\n",
        "m = LpProblem(sense=LpMaximize) # 最大にすることを指定, 最小化: LpMinimize\n",
        "# 変数 m はPuLPの LpProblem クラスのインスタンスであり、このインスタンスが最大化または最小化したい対象を表します。\n",
        "\n",
        "#変数の定義\n",
        "x = LpVariable(\"x\", cat=\"Integer\") # 牛丼, パラメータ内のxは誤差行, cat = で整数指定\n",
        "y = LpVariable(\"y\", cat=\"Integer\") # ハンバーグ\n",
        "\n",
        "#目的関数\n",
        "m += 400 * x + 500 * y # 売上を最大化する式を指定\n",
        "\n",
        "#条件(制約)\n",
        "m += 180 * x + 120 * y <= 7200 # 牛肉の条件(必要な牛肉の量)\n",
        "m += 90 * x + 180 * y <= 5400 # ご飯の条件(必要なご飯の量)"
      ]
    },
    {
      "cell_type": "code",
      "execution_count": 4,
      "metadata": {
        "colab": {
          "base_uri": "https://localhost:8080/"
        },
        "id": "b5UijCCHs05I",
        "outputId": "62e6ca4c-790b-47ae-8bd0-f8ecc271371d"
      },
      "outputs": [
        {
          "output_type": "stream",
          "name": "stdout",
          "text": [
            "Status Optimal\n",
            "Result\n",
            "x 30.0\n",
            "y 15.0\n",
            "Sales 19500.0\n"
          ]
        }
      ],
      "source": [
        "#実行\n",
        "status = m.solve() # 実行\n",
        "print(\"Status\", LpStatus[status]) # 結果の確認, 解なしや条件の設定の間違いでエラーが発生する\n",
        "\n",
        "# 結果の表示\n",
        "print(\"Result\") #Status Optimal:計算成功, 結果を確認できる, 0:解なし, 1:解あり, -n:条件の設定の間違い等のエラー\n",
        "print(\"x\", x.value()) #牛丼は30\n",
        "print(\"y\", y.value()) #ハンバーグ定食は30\n",
        "print(\"Sales\", m.objective.value()) #上記の条件での最適化された売上"
      ]
    },
    {
      "cell_type": "markdown",
      "metadata": {
        "id": "nkzzUujks05I"
      },
      "source": [
        "## 組み合わせ最適化問題\n",
        "\n",
        "**【例題】**\n",
        "\n",
        "300円で遠足に持っていくお菓子を選びたい。\n",
        "\n",
        "同じお菓子は2つ以上買わないと決めた時、もっとも満足度の高い組み合わせは何か？\n",
        "\n",
        "|お菓子|満足度|値段|\n",
        "|---|---|---|\n",
        "|チョコレート|4|80円|\n",
        "|ポテトチップス|5|120円|\n",
        "|クッキー|6|140円|\n",
        "|グミ|2|60円|\n",
        "|バナナ|7|150円|"
      ]
    },
    {
      "cell_type": "code",
      "execution_count": 5,
      "metadata": {
        "id": "uZiyxyars05J"
      },
      "outputs": [],
      "source": [
        "#モデルの定義\n",
        "m = LpProblem(sense=LpMaximize) # 最大化\n",
        "\n",
        "#変数の定義(binary(0:買わない, 1:買う))\n",
        "x1 = LpVariable(\"x1\", cat=\"Binary\") # チョコ\n",
        "x2 = LpVariable(\"x2\", cat=\"Binary\") # ポテトチップス\n",
        "x3 = LpVariable(\"x3\", cat=\"Binary\") # クッキー\n",
        "x4 = LpVariable(\"x4\", cat=\"Binary\") # グミ\n",
        "x5 = LpVariable(\"x5\", cat=\"Binary\") # バナナ\n",
        "\n",
        "#目的関数\n",
        "m += 4 * x1 + 5 * x2 + 6 * x3 + 2 * x4 + 7 * x5 # 満足度の高い組み合わせ\n",
        "\n",
        "#条件\n",
        "m += 80 * x1 + 120 * x2 + 140 * x3 + 60 * x4 + 150 * x5 <= 300 # 値段"
      ]
    },
    {
      "cell_type": "code",
      "execution_count": 6,
      "metadata": {
        "colab": {
          "base_uri": "https://localhost:8080/"
        },
        "id": "yYQFDaKms05J",
        "outputId": "db24098e-d66e-48ab-919b-80923a7ecdfd"
      },
      "outputs": [
        {
          "output_type": "stream",
          "name": "stdout",
          "text": [
            "Status Optimal\n",
            "Result\n",
            "x1 1.0\n",
            "x2 0.0\n",
            "x3 0.0\n",
            "x4 1.0\n",
            "x5 1.0\n",
            "Satisfy 13.0\n"
          ]
        }
      ],
      "source": [
        "#実行\n",
        "status = m.solve()\n",
        "print(\"Status\", LpStatus[status])\n",
        "\n",
        "# 結果の表示\n",
        "print(\"Result\")\n",
        "print(\"x1\", x1.value())\n",
        "print(\"x2\", x2.value())\n",
        "print(\"x3\", x3.value())\n",
        "print(\"x4\", x4.value())\n",
        "print(\"x5\", x5.value())\n",
        "\n",
        "print(\"Satisfy\", m.objective.value())"
      ]
    },
    {
      "cell_type": "markdown",
      "source": [
        "## 以下の+=ってなに? どんな目的で使用されているの?\n",
        "\n",
        "目的関数\n",
        "\n",
        "    m += 400 * x + 500 * y # 売上を最大化する式を指定\n",
        "\n",
        "条件(制約)\n",
        "\n",
        "    m += 180 * x + 120 * y <= 7200 # 牛肉の条件(必要な牛肉の量)\n",
        "    m += 90 * x + 180 * y <= 5400 # ご飯の条件(必要なご飯の量)\n",
        "\n",
        "+= は、変数に新しい値を加算してその変数に再代入するためのショートカットです。具体的には、次のような意味があります。\n",
        "\n",
        "    m += 400 * x + 500 * y\n",
        "\n",
        "これは、目的関数に 400 * x + 500 * y を加える操作です。m はPuLPの LpProblem インスタンスであり、この行の目的は 400 * x + 500 * y を目的関数に追加しています。これにより、最適化の際にこの目的関数が最大化されるようになります。\n",
        "\n",
        "同様に、制約条件も += を使用して追加されています。例えば：\n",
        "\n",
        "    m += 180 * x + 120 * y <= 7200\n",
        "\n",
        "この行は、制約条件を 180 * x + 120 * y <= 7200 に追加します。この制約条件は、最適化の際に考慮され、その結果として最終的な解が求められます。\n",
        "\n",
        "+= は、数理最適化のモデリングにおいて、目的関数や制約条件を効果的かつ簡潔に追加するためによく使用される演算子です。\n",
        "\n",
        "---\n",
        "\n",
        "## =だけだと上書きされるから+= にしているって認識でいいの?\n",
        "\n",
        "はい、その通りです。+= は変数に新しい値を加算し、その変数に再代入する演算子です。これにより、既存の値に新しい項を加えていく形でモデルを構築できます。\n",
        "\n",
        "例えば、最初に目的関数を設定するときに = を使うと、既存の目的関数が上書きされます。しかし、+= を使うと、既存の目的関数に新しい項を追加していくことができます。同様に、制約条件も += を使って追加しているので、複数の制約条件が同時に考慮されることになります。\n",
        "\n",
        "この手法は、数理最適化のモデリングにおいて柔軟性を持たせるために使われます。新しい項を加えたい場合に都度 += を使用することで、モデルを段階的に構築できます。\n",
        "\n",
        "\n",
        "\n",
        "\n",
        "\n"
      ],
      "metadata": {
        "id": "gJbbrFzL3GHm"
      }
    },
    {
      "cell_type": "code",
      "execution_count": 6,
      "metadata": {
        "id": "gy51a4aAs05K"
      },
      "outputs": [],
      "source": []
    }
  ],
  "metadata": {
    "kernelspec": {
      "display_name": "Python 3 (ipykernel)",
      "language": "python",
      "name": "python3"
    },
    "language_info": {
      "codemirror_mode": {
        "name": "ipython",
        "version": 3
      },
      "file_extension": ".py",
      "mimetype": "text/x-python",
      "name": "python",
      "nbconvert_exporter": "python",
      "pygments_lexer": "ipython3",
      "version": "3.8.11"
    },
    "colab": {
      "provenance": []
    }
  },
  "nbformat": 4,
  "nbformat_minor": 0
}